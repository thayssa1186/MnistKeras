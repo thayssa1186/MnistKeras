{
  "nbformat": 4,
  "nbformat_minor": 0,
  "metadata": {
    "colab": {
      "name": "Untitled0.ipynb",
      "version": "0.3.2",
      "provenance": [],
      "collapsed_sections": [],
      "include_colab_link": true
    },
    "kernelspec": {
      "name": "python3",
      "display_name": "Python 3"
    }
  },
  "cells": [
    {
      "cell_type": "markdown",
      "metadata": {
        "id": "view-in-github",
        "colab_type": "text"
      },
      "source": [
        "[View in Colaboratory](https://colab.research.google.com/github/thayssa1186/MnistKeras/blob/master/mnistmlp.ipynb)"
      ]
    },
    {
      "metadata": {
        "id": "oTAG9-UfaSL2",
        "colab_type": "code",
        "colab": {
          "base_uri": "https://localhost:8080/",
          "height": 118
        },
        "outputId": "bea026b1-17a0-4ace-cdb4-64e3ceb2c449"
      },
      "cell_type": "code",
      "source": [
        "!pip3 install Keras\n"
      ],
      "execution_count": 1,
      "outputs": [
        {
          "output_type": "stream",
          "text": [
            "Requirement already satisfied: Keras in /usr/local/lib/python3.6/dist-packages (2.1.6)\n",
            "Requirement already satisfied: numpy>=1.9.1 in /usr/local/lib/python3.6/dist-packages (from Keras) (1.14.6)\n",
            "Requirement already satisfied: h5py in /usr/local/lib/python3.6/dist-packages (from Keras) (2.8.0)\n",
            "Requirement already satisfied: scipy>=0.14 in /usr/local/lib/python3.6/dist-packages (from Keras) (0.19.1)\n",
            "Requirement already satisfied: pyyaml in /usr/local/lib/python3.6/dist-packages (from Keras) (3.13)\n",
            "Requirement already satisfied: six>=1.9.0 in /usr/local/lib/python3.6/dist-packages (from Keras) (1.11.0)\n"
          ],
          "name": "stdout"
        }
      ]
    },
    {
      "metadata": {
        "id": "236ppdNVaxXh",
        "colab_type": "code",
        "colab": {
          "base_uri": "https://localhost:8080/",
          "height": 34
        },
        "outputId": "7af91586-2534-4a94-8465-0485b22e9ae3"
      },
      "cell_type": "code",
      "source": [
        "from __future__ import print_function\n",
        "\n",
        "import keras\n",
        "from keras.datasets import mnist\n",
        "from keras.models import Sequential\n",
        "from keras.layers import Dense, Dropout\n",
        "from keras.optimizers import RMSprop\n",
        "from keras.callbacks import EarlyStopping, ModelCheckpoint\n",
        "from keras.models import model_from_json\n",
        "\n",
        "\n",
        "\n",
        "\n",
        "batch_size = 128\n",
        "num_classes = 10\n",
        "epochs = 150"
      ],
      "execution_count": 2,
      "outputs": [
        {
          "output_type": "stream",
          "text": [
            "Using TensorFlow backend.\n"
          ],
          "name": "stderr"
        }
      ]
    },
    {
      "metadata": {
        "id": "tze52ptRa7pu",
        "colab_type": "code",
        "colab": {
          "base_uri": "https://localhost:8080/",
          "height": 84
        },
        "outputId": "6bedffa1-bdd1-49a0-b4d0-38e2115b9a59"
      },
      "cell_type": "code",
      "source": [
        "# the data, split between train and test sets\n",
        "(x_train, y_train), (x_test, y_test) = mnist.load_data()\n",
        "\n",
        "x_train = x_train.reshape(60000, 784)\n",
        "x_test = x_test.reshape(10000, 784)\n",
        "x_train = x_train.astype('float32')\n",
        "x_test = x_test.astype('float32')\n",
        "x_train /= 255\n",
        "x_test /= 255\n",
        "print(x_train.shape[0], 'train samples')\n",
        "print(x_test.shape[0], 'test samples')"
      ],
      "execution_count": 3,
      "outputs": [
        {
          "output_type": "stream",
          "text": [
            "Downloading data from https://s3.amazonaws.com/img-datasets/mnist.npz\n",
            "11493376/11490434 [==============================] - 1s 0us/step\n",
            "60000 train samples\n",
            "10000 test samples\n"
          ],
          "name": "stdout"
        }
      ]
    },
    {
      "metadata": {
        "id": "_sTXUtTHbINX",
        "colab_type": "code",
        "colab": {
          "base_uri": "https://localhost:8080/",
          "height": 302
        },
        "outputId": "a2cf2bb4-4430-4d8a-a621-11ccca479b6d"
      },
      "cell_type": "code",
      "source": [
        "# convert class vectors to binary class matrices\n",
        "y_train = keras.utils.to_categorical(y_train, num_classes)\n",
        "y_test = keras.utils.to_categorical(y_test, num_classes)\n",
        "\n",
        "model = Sequential()\n",
        "model.add(Dense(512, activation='relu', input_shape=(784,)))\n",
        "model.add(Dropout(0.2))\n",
        "model.add(Dense(512, activation='relu'))\n",
        "model.add(Dropout(0.2))\n",
        "model.add(Dense(num_classes, activation='softmax'))\n",
        "\n",
        "model.summary()"
      ],
      "execution_count": 4,
      "outputs": [
        {
          "output_type": "stream",
          "text": [
            "_________________________________________________________________\n",
            "Layer (type)                 Output Shape              Param #   \n",
            "=================================================================\n",
            "dense_1 (Dense)              (None, 512)               401920    \n",
            "_________________________________________________________________\n",
            "dropout_1 (Dropout)          (None, 512)               0         \n",
            "_________________________________________________________________\n",
            "dense_2 (Dense)              (None, 512)               262656    \n",
            "_________________________________________________________________\n",
            "dropout_2 (Dropout)          (None, 512)               0         \n",
            "_________________________________________________________________\n",
            "dense_3 (Dense)              (None, 10)                5130      \n",
            "=================================================================\n",
            "Total params: 669,706\n",
            "Trainable params: 669,706\n",
            "Non-trainable params: 0\n",
            "_________________________________________________________________\n"
          ],
          "name": "stdout"
        }
      ]
    },
    {
      "metadata": {
        "id": "5yJN1aQMbNd4",
        "colab_type": "code",
        "colab": {}
      },
      "cell_type": "code",
      "source": [
        "filepath=\"weights.best.hdf5\"\n",
        "checkpoint = ModelCheckpoint(filepath, monitor='val_loss', verbose=1, save_best_only=True, mode='min')\n",
        "\n",
        "# check 5 epochs\n",
        "early_stop = EarlyStopping(monitor='val_loss', patience=5, mode='min') \n",
        "\n",
        "callbacks_list = [checkpoint, early_stop]"
      ],
      "execution_count": 0,
      "outputs": []
    },
    {
      "metadata": {
        "id": "mGNkx-7ubTmz",
        "colab_type": "code",
        "colab": {}
      },
      "cell_type": "code",
      "source": [
        "model.compile(loss='categorical_crossentropy',\n",
        "              optimizer=RMSprop(),\n",
        "              metrics=['accuracy'])"
      ],
      "execution_count": 0,
      "outputs": []
    },
    {
      "metadata": {
        "id": "5tbS0AIMbds9",
        "colab_type": "code",
        "colab": {
          "base_uri": "https://localhost:8080/",
          "height": 773
        },
        "outputId": "9b38ec60-3e0a-4951-8292-f313f8256f50"
      },
      "cell_type": "code",
      "source": [
        "history = model.fit(x_train, y_train,\n",
        "                    batch_size=batch_size,\n",
        "                    epochs=epochs,\n",
        "                    verbose=1,\n",
        "                    validation_data=(x_test, y_test),callbacks=callbacks_list)"
      ],
      "execution_count": 7,
      "outputs": [
        {
          "output_type": "stream",
          "text": [
            "Train on 60000 samples, validate on 10000 samples\n",
            "Epoch 1/150\n",
            "60000/60000 [==============================] - 9s 157us/step - loss: 0.2457 - acc: 0.9252 - val_loss: 0.1035 - val_acc: 0.9676\n",
            "\n",
            "Epoch 00001: val_loss improved from inf to 0.10355, saving model to weights.best.hdf5\n",
            "Epoch 2/150\n",
            "60000/60000 [==============================] - 9s 151us/step - loss: 0.1029 - acc: 0.9697 - val_loss: 0.0906 - val_acc: 0.9735\n",
            "\n",
            "Epoch 00002: val_loss improved from 0.10355 to 0.09061, saving model to weights.best.hdf5\n",
            "Epoch 3/150\n",
            "60000/60000 [==============================] - 9s 150us/step - loss: 0.0766 - acc: 0.9767 - val_loss: 0.0792 - val_acc: 0.9772\n",
            "\n",
            "Epoch 00003: val_loss improved from 0.09061 to 0.07920, saving model to weights.best.hdf5\n",
            "Epoch 4/150\n",
            "60000/60000 [==============================] - 9s 150us/step - loss: 0.0605 - acc: 0.9815 - val_loss: 0.0783 - val_acc: 0.9782\n",
            "\n",
            "Epoch 00004: val_loss improved from 0.07920 to 0.07829, saving model to weights.best.hdf5\n",
            "Epoch 5/150\n",
            "60000/60000 [==============================] - 9s 153us/step - loss: 0.0500 - acc: 0.9850 - val_loss: 0.0821 - val_acc: 0.9785\n",
            "\n",
            "Epoch 00005: val_loss did not improve from 0.07829\n",
            "Epoch 6/150\n",
            "60000/60000 [==============================] - 9s 154us/step - loss: 0.0430 - acc: 0.9869 - val_loss: 0.0736 - val_acc: 0.9811\n",
            "\n",
            "Epoch 00006: val_loss improved from 0.07829 to 0.07359, saving model to weights.best.hdf5\n",
            "Epoch 7/150\n",
            "60000/60000 [==============================] - 9s 152us/step - loss: 0.0374 - acc: 0.9893 - val_loss: 0.0833 - val_acc: 0.9813\n",
            "\n",
            "Epoch 00007: val_loss did not improve from 0.07359\n",
            "Epoch 8/150\n",
            "60000/60000 [==============================] - 9s 151us/step - loss: 0.0363 - acc: 0.9893 - val_loss: 0.0916 - val_acc: 0.9814\n",
            "\n",
            "Epoch 00008: val_loss did not improve from 0.07359\n",
            "Epoch 9/150\n",
            "60000/60000 [==============================] - 9s 150us/step - loss: 0.0325 - acc: 0.9906 - val_loss: 0.0854 - val_acc: 0.9819\n",
            "\n",
            "Epoch 00009: val_loss did not improve from 0.07359\n",
            "Epoch 10/150\n",
            "60000/60000 [==============================] - 9s 152us/step - loss: 0.0295 - acc: 0.9912 - val_loss: 0.0877 - val_acc: 0.9814\n",
            "\n",
            "Epoch 00010: val_loss did not improve from 0.07359\n",
            "Epoch 11/150\n",
            "60000/60000 [==============================] - 9s 149us/step - loss: 0.0270 - acc: 0.9922 - val_loss: 0.0785 - val_acc: 0.9824\n",
            "\n",
            "Epoch 00011: val_loss did not improve from 0.07359\n"
          ],
          "name": "stdout"
        }
      ]
    },
    {
      "metadata": {
        "id": "zPLWslh3cJoU",
        "colab_type": "code",
        "colab": {
          "base_uri": "https://localhost:8080/",
          "height": 50
        },
        "outputId": "b6097c75-a2a7-4dec-bfca-58dea110d8bd"
      },
      "cell_type": "code",
      "source": [
        "score = model.evaluate(x_test, y_test, verbose=0)\n",
        "print('Test loss:', score[0])\n",
        "print('Test accuracy:', score[1])"
      ],
      "execution_count": 8,
      "outputs": [
        {
          "output_type": "stream",
          "text": [
            "Test loss: 0.07854812441853246\n",
            "Test accuracy: 0.9824\n"
          ],
          "name": "stdout"
        }
      ]
    }
  ]
}